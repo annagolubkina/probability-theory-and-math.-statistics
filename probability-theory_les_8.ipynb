{
 "cells": [
  {
   "cell_type": "code",
   "execution_count": 1,
   "id": "17db3aef",
   "metadata": {},
   "outputs": [],
   "source": [
    "import numpy as np\n",
    "import matplotlib.pyplot as plt\n",
    "%matplotlib inline\n",
    "%config InlineBackend.figure_format = 'svg'\n",
    "from scipy import stats"
   ]
  },
  {
   "cell_type": "markdown",
   "id": "d53096a9",
   "metadata": {},
   "source": [
    "##### 1.Провести дисперсионный анализ для определения того, есть ли различия среднего роста среди взрослых футболистов, хоккеистов и штангистов. Даны значения роста в трех группах случайно выбранных спортсменов: Футболисты: 173, 175, 180, 178, 177, 185, 183, 182. Хоккеисты: 177, 179, 180, 188, 177, 172, 171, 184, 180. Штангисты: 172, 173, 169, 177, 166, 180, 178, 177, 172, 166, 170."
   ]
  },
  {
   "cell_type": "code",
   "execution_count": 2,
   "id": "5702c469",
   "metadata": {},
   "outputs": [],
   "source": [
    "y1 = np.array([173, 175, 180, 178, 177, 185, 183, 182])\n",
    "y2 = np.array([177, 179, 180, 188, 177, 172, 171, 184, 180])\n",
    "y3 = np.array([172, 173, 169, 177, 166, 180, 178, 177, 172, 166, 170])"
   ]
  },
  {
   "cell_type": "markdown",
   "id": "f433a9f1",
   "metadata": {},
   "source": [
    "Гипотеза H0:\n",
    "вид спорта не оказывает статистически значимого влияния на рост спортсменов$$\n",
    "$$Гипотеза H1:\n",
    "вид спорта оказывает статистически значимое влияние на рост спортсменов"
   ]
  },
  {
   "cell_type": "code",
   "execution_count": 3,
   "id": "51eb2282",
   "metadata": {},
   "outputs": [
    {
     "name": "stdout",
     "output_type": "stream",
     "text": [
      "y1_mean = 179.125\n",
      "y2_mean = 178.667\n",
      "y3_mean = 172.727\n",
      "\n",
      "y_mean  = 176.464\n",
      "\n",
      "s2          = 830.964\n",
      "s2_f        = 253.907\n",
      "s2_resl = 577.057\n",
      "\n",
      "s2 = s2_f + s2_res: 830.964 = 253.907 + 577.057 = 830.964\n",
      "\n",
      "sigma2_general  = 28.654\n",
      "sigma2_f        = 126.954\n",
      "sigma2_res = 21.372\n",
      "\n",
      "Fp = 5.94\n"
     ]
    }
   ],
   "source": [
    "y = np.concatenate([y1, [0], y2, [0], y3])\n",
    "n = len(y)\n",
    "n1 = y1.size\n",
    "n2 = y2.size\n",
    "n3 = y3.size\n",
    "k = 3\n",
    "# средне групповые значения\n",
    "y1_mean = y1.mean()\n",
    "y2_mean = y2.mean()\n",
    "y3_mean = y3.mean()\n",
    "\n",
    "# общее среднее \n",
    "y_all = np.concatenate([y1, y2, y3])\n",
    "y_mean = y_all.sum() / y_all.size\n",
    "\n",
    "print (f'y1_mean = {round(y1_mean, 3)}')\n",
    "print (f'y2_mean = {round(y2_mean, 3)}')\n",
    "print (f'y3_mean = {round(y3_mean, 3)}\\n')\n",
    "\n",
    "print (f'y_mean  = {round(y_mean, 3)}\\n')\n",
    "\n",
    "#----------------------------------------------------------------------------------------------------\n",
    "# сумма квадратов отклонений наблюдений от общего среднего\n",
    "s2 = np.sum( (y_all - y_mean)**2 )\n",
    "\n",
    "# сумма квадратов отклонений средних групповых значений от общего среднего\n",
    "s2_f = ((y1_mean - y_mean)**2) * n1 + \\\n",
    "        ((y2_mean - y_mean)**2) * n2 + \\\n",
    "        ((y3_mean - y_mean)**2) * n3\n",
    "\n",
    "# остаточная сумма квадратов отклонений\n",
    "s2_res = np.sum((y1 - y1_mean)**2) + \\\n",
    "                np.sum((y2 - y2_mean)**2) + \\\n",
    "                np.sum((y3 - y3_mean)**2)\n",
    "\n",
    "print (f's2          = {round(s2, 3)}')\n",
    "print (f's2_f        = {round(s2_f, 3)}')\n",
    "print (f's2_resl = {round(s2_res, 3)}\\n')\n",
    "\n",
    "#----------------------------------------------------------------------------------------------------\n",
    "# соблюдение равенства: s2 = s2_f + s2_res\n",
    "print(f's2 = s2_f + s2_res: {round(s2, 3)} = {round(s2_f, 3)} + {round(s2_res, 3)} = \\\n",
    "{round(s2_f, 3) + round(s2_res, 3)}\\n')\n",
    "\n",
    "#----------------------------------------------------------------------------------------------------\n",
    "# общая дисперсия\n",
    "sigma2_general = s2 / (n - 1)\n",
    "\n",
    "# факторная дисперсия\n",
    "sigma2_f = s2_f / (k - 1)\n",
    "\n",
    "# остаточная дисперсия\n",
    "sigma2_res = s2_res / (n - k)\n",
    "\n",
    "print (f'sigma2_general  = {round(sigma2_general, 3)}')\n",
    "print (f'sigma2_f        = {round(sigma2_f, 3)}')\n",
    "print (f'sigma2_res = {round(sigma2_res, 3)}\\n')\n",
    "\n",
    "#----------------------------------------------------------------------------------------------------\n",
    "# критерий Фишера расчетный\n",
    "Fp = sigma2_f / sigma2_res\n",
    "print (f'Fp = {round(Fp, 3)}')"
   ]
  },
  {
   "cell_type": "markdown",
   "id": "0f8acb3c",
   "metadata": {},
   "source": [
    "Найдем значение F_крит в табюлице критических точек распредления Фишера для заданного уровня значимолсти alpha = 0,05 и двух степеней свободы$$\n",
    "df_межд = k-1 = 3-1=2$$\n",
    "$$df_внут = n-k = 28-3 =25$$\n",
    "F_крит = 3.38$$\n",
    "5.94 > 3.38 $$\n",
    "Верна гипотеза H1:Вид спорта ОКАЗЫВАЕТ статистически значимое вляние на рост спортсмена на уровне значимости 5%"
   ]
  },
  {
   "cell_type": "code",
   "execution_count": null,
   "id": "9db1b233",
   "metadata": {},
   "outputs": [],
   "source": []
  }
 ],
 "metadata": {
  "kernelspec": {
   "display_name": "Python 3",
   "language": "python",
   "name": "python3"
  },
  "language_info": {
   "codemirror_mode": {
    "name": "ipython",
    "version": 3
   },
   "file_extension": ".py",
   "mimetype": "text/x-python",
   "name": "python",
   "nbconvert_exporter": "python",
   "pygments_lexer": "ipython3",
   "version": "3.8.8"
  }
 },
 "nbformat": 4,
 "nbformat_minor": 5
}
