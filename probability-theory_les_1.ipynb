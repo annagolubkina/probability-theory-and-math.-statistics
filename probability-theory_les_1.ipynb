{
 "cells": [
  {
   "cell_type": "markdown",
   "id": "bdfb6fbe",
   "metadata": {},
   "source": [
    "#### 1.Из колоды в 52 карты извлекаются случайным образом 4 карты. \n",
    "a) Найти вероятность того, что все карты – крести. \n",
    "б) Найти вероятность, что среди 4-х карт окажется хотя бы один туз."
   ]
  },
  {
   "cell_type": "code",
   "execution_count": 19,
   "id": "dda8287b",
   "metadata": {},
   "outputs": [],
   "source": [
    "from math import factorial"
   ]
  },
  {
   "cell_type": "code",
   "execution_count": 20,
   "id": "cde356a6",
   "metadata": {},
   "outputs": [],
   "source": [
    "def combinations(n, k):\n",
    "    return int(factorial(n) / (factorial(k) * factorial(n - k)))"
   ]
  },
  {
   "cell_type": "code",
   "execution_count": 21,
   "id": "bba992c4",
   "metadata": {},
   "outputs": [
    {
     "name": "stdout",
     "output_type": "stream",
     "text": [
      "C1(4 карты - крести): 715 \n",
      " C2(4 карты из 52): 270725 \n",
      " Р(А) (веротнсть что все 4 карты - крести): 0.00264 \n",
      "\n"
     ]
    }
   ],
   "source": [
    "# a)\n",
    "C1 = combinations(13, 4)\n",
    "C2 = combinations(52, 4)\n",
    "P_A = C1/C2\n",
    "print(f\"C1(4 карты - крести): {C1} \\n\", \n",
    "      f\"C2(4 карты из 52): {C2} \\n\",\n",
    "     f\"Р(А) (вероятность что все 4 карты - крести): {round(P_A,5)} \\n\",)"
   ]
  },
  {
   "cell_type": "code",
   "execution_count": 32,
   "id": "b8326d46",
   "metadata": {},
   "outputs": [
    {
     "name": "stdout",
     "output_type": "stream",
     "text": [
      "Р(А) (веротнсть что из 4-х карт хотя бы 1 туз): 0.28126 \n",
      "\n"
     ]
    }
   ],
   "source": [
    "# б)\n",
    "# 1 вариант \n",
    "C1 = combinations(4, 1) * combinations(48, 3) #1 туз 3 обычных карты\n",
    "C2 = combinations(4, 2) * combinations(48, 2) #2 туза 2 обычных карты\n",
    "C3 = combinations(4, 3) * combinations(48, 1) #3 туза 1 обычная карта\n",
    "C4 = combinations(4, 4) * combinations(48, 0) #4 туза 0 обычных карт\n",
    "C_all = combinations(52, 4)\n",
    "C = C1 + C2 + C3 + C4\n",
    "P_A = C/C_all\n",
    "print(f\"Р(А) вероятность что из 4-х карт хотя бы 1 туз: {round(P_A,5)} \\n\",)"
   ]
  },
  {
   "cell_type": "code",
   "execution_count": 33,
   "id": "a05d6833",
   "metadata": {},
   "outputs": [
    {
     "name": "stdout",
     "output_type": "stream",
     "text": [
      "Р(А) (веротнсть что из 4-х карт хотя бы 1 туз): 0.28126 \n",
      "\n"
     ]
    }
   ],
   "source": [
    "# б)\n",
    "# 2 вариант \n",
    "P_A2 = 1 - combinations(48, 4) / combinations(52, 4)\n",
    "print(f\"Р(А) вероятность что из 4-х карт хотя бы 1 туз: {round(P_A2,5)} \\n\",)"
   ]
  },
  {
   "cell_type": "markdown",
   "id": "82a69033",
   "metadata": {},
   "source": [
    "#### 2. На входной двери подъезда установлен кодовый замок, содержащий десять кнопок с цифрами от 0 до 9. Код содержит три цифры, которые нужно нажать одновременно. Какова вероятность того, что человек, не знающий код, откроет дверь с первой попытки?"
   ]
  },
  {
   "cell_type": "code",
   "execution_count": 34,
   "id": "63eeb9dd",
   "metadata": {},
   "outputs": [
    {
     "name": "stdout",
     "output_type": "stream",
     "text": [
      "Р(А) (вероятность открытия двери с первой попытки ): 0.00833 \n",
      "\n"
     ]
    }
   ],
   "source": [
    "C1 = combinations(10, 3) #общее число исходов, так как кнопки нажимаются вместе\n",
    "P_A = 1/C1\n",
    "print(f\"Р(А) (вероятность открытия двери с первой попытки ): {round(P_A,5)} \\n\",)"
   ]
  },
  {
   "cell_type": "markdown",
   "id": "2bb06ef0",
   "metadata": {},
   "source": [
    "#### 3. В ящике имеется 15 деталей, из которых 9 окрашены. Рабочий случайным образом извлекает 3 детали. Какова вероятность того, что все извлеченные детали окрашены?"
   ]
  },
  {
   "cell_type": "code",
   "execution_count": 35,
   "id": "ef286ade",
   "metadata": {},
   "outputs": [
    {
     "name": "stdout",
     "output_type": "stream",
     "text": [
      "Р(А) (вероятность того, что все детали окрашели): 0.18462 \n",
      "\n"
     ]
    }
   ],
   "source": [
    "C1 = combinations(9, 3)\n",
    "C2 = combinations(15, 3)\n",
    "P_A = C1/C2\n",
    "print(f\"Р(А) (вероятность того, что все детали окрашены): {round(P_A,5)} \\n\",)"
   ]
  },
  {
   "cell_type": "markdown",
   "id": "da4c7d57",
   "metadata": {},
   "source": [
    "#### 4.В лотерее 100 билетов. Из них 2 выигрышных. Какова вероятность того, что 2 приобретенных билета окажутся выигрышными?"
   ]
  },
  {
   "cell_type": "code",
   "execution_count": 38,
   "id": "ccc7c655",
   "metadata": {},
   "outputs": [
    {
     "name": "stdout",
     "output_type": "stream",
     "text": [
      "Р(А) (вероятность того, что 2 приобретенных билета выигрышные): 0.0002 \n",
      "\n"
     ]
    }
   ],
   "source": [
    "C1 = combinations(2, 2)\n",
    "C2 = combinations(100, 2)\n",
    "P_A = C1/C2\n",
    "print(f\"Р(А) (вероятность того, что 2 приобретенных билета выигрышные): {round(P_A,5)} \\n\",)"
   ]
  }
 ],
 "metadata": {
  "kernelspec": {
   "display_name": "Python 3",
   "language": "python",
   "name": "python3"
  },
  "language_info": {
   "codemirror_mode": {
    "name": "ipython",
    "version": 3
   },
   "file_extension": ".py",
   "mimetype": "text/x-python",
   "name": "python",
   "nbconvert_exporter": "python",
   "pygments_lexer": "ipython3",
   "version": "3.8.8"
  }
 },
 "nbformat": 4,
 "nbformat_minor": 5
}
