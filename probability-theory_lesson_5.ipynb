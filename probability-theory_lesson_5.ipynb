{
 "cells": [
  {
   "cell_type": "markdown",
   "id": "5ca507e2",
   "metadata": {},
   "source": [
    "#### 1.Известно, что генеральная совокупность распределена нормально\n",
    "со средним квадратическим отклонением, равным 16.\n",
    "Найти доверительный интервал для оценки математического ожидания a с надежностью 0.95,\n",
    "если выборочная средняя M = 80, а объем выборки n = 256."
   ]
  },
  {
   "cell_type": "code",
   "execution_count": 2,
   "id": "49e74154",
   "metadata": {},
   "outputs": [],
   "source": [
    "import numpy as np\n",
    "from scipy.stats import norm, t"
   ]
  },
  {
   "cell_type": "code",
   "execution_count": 8,
   "id": "c86a295b",
   "metadata": {},
   "outputs": [
    {
     "name": "stdout",
     "output_type": "stream",
     "text": [
      "доверительный интервал = [78.04, 81.96]\n"
     ]
    }
   ],
   "source": [
    "sko   = 16\n",
    "M     = 80\n",
    "n     = 256\n",
    "alpha = 1 - 0.95\n",
    "\n",
    "Z = norm.ppf( alpha / 2)\n",
    "# print(f'Z = {round(Z, 6)}')\n",
    "\n",
    "int1 = M + Z * sko / np.sqrt(n)\n",
    "int2 = M - Z * sko / np.sqrt(n)\n",
    "\n",
    "print(f'доверительный интервал = [{round(int1, 3)}, {round(int2, 3)}]')"
   ]
  },
  {
   "cell_type": "markdown",
   "id": "fe7b68e3",
   "metadata": {},
   "source": [
    "#### 2.\n",
    "В результате 10 независимых измерений некоторой величины X, выполненных с одинаковой точностью,\n",
    "получены опытные данные:\n",
    "6.9, 6.1, 6.2, 6.8, 7.5, 6.3, 6.4, 6.9, 6.7, 6.1\n",
    "Предполагая, что результаты измерений подчинены нормальному закону распределения вероятностей,\n",
    "оценить истинное значение величины X при помощи доверительного интервала, покрывающего это\n",
    "значение с доверительной вероятностью 0,95."
   ]
  },
  {
   "cell_type": "code",
   "execution_count": 9,
   "id": "236f4020",
   "metadata": {},
   "outputs": [
    {
     "name": "stdout",
     "output_type": "stream",
     "text": [
      "[6.9 6.1 6.2 6.8 7.5 6.3 6.4 6.9 6.7 6.1]\n",
      "\n",
      "M     (средняя по выборке)        = 6.59\n",
      "СКО   (для несмещенной дисперсии) = 0.450802\n",
      "Aplha (уровень значимости)        = 0.05\n",
      "v     (число степеней свободы)    = 9\n",
      "t     (статистический критерий)   = -2.262157\n",
      "\n",
      "доверительный интервал = [6.268, 6.912]\n"
     ]
    }
   ],
   "source": [
    "# так как СКО не задано решение через t-критерий Стьюдента\n",
    "x = np.array([6.9, 6.1, 6.2, 6.8, 7.5, 6.3, 6.4, 6.9, 6.7, 6.1])\n",
    "print(x)\n",
    "print()\n",
    "\n",
    "M = x.mean()\n",
    "print(f'M     (средняя по выборке)        = {round(M, 6)}')\n",
    "\n",
    "sko = np.sqrt(x.var(ddof = 1))\n",
    "print(f'СКО   (для несмещенной дисперсии) = {round(sko, 6)}')\n",
    "\n",
    "alpha = 1 - 0.95 \n",
    "print(f'Aplha (уровень значимости)        = {round(alpha, 6)}')\n",
    "\n",
    "n = 10\n",
    "v = n - 1\n",
    "print(f'v     (число степеней свободы)    = {v}')\n",
    "\n",
    "t_crit = t.ppf(alpha/2, 9)\n",
    "print(f't     (статистический критерий)   = {round(t_crit, 6)}')\n",
    "print()\n",
    "\n",
    "int1 = M + t_crit * sko / np.sqrt(n)\n",
    "int2 = M - t_crit * sko / np.sqrt(n)\n",
    "\n",
    "print(f'доверительный интервал = [{round(int1, 3)}, {round(int2, 3)}]')"
   ]
  },
  {
   "cell_type": "markdown",
   "id": "8c8d5d6f",
   "metadata": {},
   "source": [
    "#### 3. Утверждается, что шарики для подшипников, изготовленные автоматическим станком, имеют средний диаметр 17 мм.\n",
    "Используя односторонний критерий с α=0,05, проверить эту гипотезу, если в выборке из n=100 шариков средний диаметр\n",
    "оказался равным 17.5 мм, а дисперсия известна и равна 4 кв. мм."
   ]
  },
  {
   "cell_type": "code",
   "execution_count": 10,
   "id": "2025694c",
   "metadata": {},
   "outputs": [],
   "source": [
    "mu0 = 17\n",
    "alpha = 0.05\n",
    "n = 100\n",
    "D = 4\n",
    "mu = 17.5"
   ]
  },
  {
   "cell_type": "markdown",
   "id": "a8550247",
   "metadata": {},
   "source": [
    "$$Гипотеза H0: mu = mu0$$\n",
    "$$Гипотеза H1: mu > mu0$$"
   ]
  },
  {
   "cell_type": "code",
   "execution_count": 12,
   "id": "cea09fd8",
   "metadata": {},
   "outputs": [
    {
     "name": "stdout",
     "output_type": "stream",
     "text": [
      "cигма выборки             = 0.2\n",
      "\n",
      "Z-критерий                = 1.644854\n",
      "xисло сигм между mu и mu0 = 2.5\n"
     ]
    }
   ],
   "source": [
    "# cигму для выборочной совокупности\n",
    "sigma = np.sqrt(D) / np.sqrt(n)\n",
    "print(f'cигма выборки             = {sigma}')\n",
    "print()\n",
    "\n",
    "Z = norm.ppf(1 - alpha)\n",
    "print(f'Z-критерий                = {round(Z, 6)}')\n",
    "\n",
    "# число сигм между mu и mu0\n",
    "count_sigm = (mu - mu0) / sigma\n",
    "print(f'xисло сигм между mu и mu0 = {count_sigm}')"
   ]
  },
  {
   "cell_type": "markdown",
   "id": "e37c8803",
   "metadata": {},
   "source": [
    "##### mu находится на расстоянии 2.5 сигмы от mu0 и лежит правее критерия значимости alpha\n",
    "#### Гипотеза H0 отклоняется и верна гипотеза H1"
   ]
  },
  {
   "cell_type": "markdown",
   "id": "a0adbaef",
   "metadata": {},
   "source": [
    "##### 4.Продавец утверждает, что средний вес пачки печенья составляет 200 г.\n",
    "Из партии извлечена выборка из 10 пачек. Вес каждой пачки составляет:\n",
    "202, 203, 199, 197, 195, 201, 200, 204, 194, 190.\n",
    "Известно, что их веса распределены нормально.\n",
    "Верно ли утверждение продавца, если учитывать, что доверительная вероятность равна 99%?"
   ]
  },
  {
   "cell_type": "markdown",
   "id": "632ea0a3",
   "metadata": {},
   "source": [
    "$$Гипотеза H0: mu = mu0$$\n",
    "$$Гипотеза H1: mu <> mu0$$"
   ]
  },
  {
   "cell_type": "code",
   "execution_count": 14,
   "id": "4d4b70f2",
   "metadata": {},
   "outputs": [
    {
     "name": "stdout",
     "output_type": "stream",
     "text": [
      "\n",
      "mu     (средняя по выборке)        = 198.5\n",
      "СКО   (для несмещенной дисперсии) = 4.453463\n",
      "cигма выборки                     = 0.445346\n",
      "Aplha (уровень значимости)        = 0.01\n",
      "v     (число степеней свободы)    = 9\n",
      "\n",
      "t     (статистический критерий)   = -3.249836\n",
      "xисло сигм между mu и mu0         = 3.368165\n"
     ]
    }
   ],
   "source": [
    "mu0 = 200\n",
    "x = np.array([202, 203, 199, 197, 195, 201, 200, 204, 194, 190])\n",
    "print()\n",
    "\n",
    "mu = x.mean()\n",
    "print(f'mu     (средняя по выборке)        = {round(mu, 6)}')\n",
    "\n",
    "sko = np.sqrt(x.var(ddof = 1))\n",
    "print(f'СКО   (для несмещенной дисперсии) = {round(sko, 6)}')\n",
    "\n",
    "sigma = sko / np.sqrt(n)\n",
    "print(f'cигма выборки                     = {round(sigma, 6)}')\n",
    "\n",
    "alpha = 1 - 0.99\n",
    "print(f'Aplha (уровень значимости)        = {round(alpha, 6)}')\n",
    "\n",
    "n = 10\n",
    "v = n - 1\n",
    "print(f'v     (число степеней свободы)    = {v}')\n",
    "print()\n",
    "\n",
    "t_crit = t.ppf(alpha/2, 9)\n",
    "print(f't     (статистический критерий)   = {round(t_crit, 6)}')\n",
    "\n",
    "# Найдем число сигм между mu и mu0\n",
    "count_sigm = (mu0 - mu) / sigma\n",
    "print(f'xисло сигм между mu и mu0         = {round(count_sigm, 6)}')"
   ]
  },
  {
   "cell_type": "markdown",
   "id": "39d60319",
   "metadata": {},
   "source": [
    "##### mu находится на расстоянии 1.065 сигмы от mu0 и лежит внутри интервала значимости alpha\n",
    "##### Гипотеза H0 верна и гипотеза H1 отклоняется"
   ]
  },
  {
   "cell_type": "code",
   "execution_count": null,
   "id": "248c7b09",
   "metadata": {},
   "outputs": [],
   "source": []
  }
 ],
 "metadata": {
  "kernelspec": {
   "display_name": "Python 3",
   "language": "python",
   "name": "python3"
  },
  "language_info": {
   "codemirror_mode": {
    "name": "ipython",
    "version": 3
   },
   "file_extension": ".py",
   "mimetype": "text/x-python",
   "name": "python",
   "nbconvert_exporter": "python",
   "pygments_lexer": "ipython3",
   "version": "3.8.8"
  }
 },
 "nbformat": 4,
 "nbformat_minor": 5
}
