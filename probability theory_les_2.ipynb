{
 "cells": [
  {
   "cell_type": "markdown",
   "id": "d305057b",
   "metadata": {},
   "source": [
    "#### 1. Вероятность того, что стрелок попадет в мишень, выстрелив один раз, равна 0.8. Стрелок выстрелил 100 раз. Найдите вероятность того, что стрелок попадет в цель ровно 85 раз."
   ]
  },
  {
   "cell_type": "code",
   "execution_count": 1,
   "id": "1023a262",
   "metadata": {},
   "outputs": [],
   "source": [
    "from math import factorial"
   ]
  },
  {
   "cell_type": "code",
   "execution_count": 2,
   "id": "2e93b892",
   "metadata": {},
   "outputs": [],
   "source": [
    "def combinations(n, k):\n",
    "    return int(factorial(n) / (factorial(k) * factorial(n - k)))"
   ]
  },
  {
   "cell_type": "code",
   "execution_count": 9,
   "id": "d8364832",
   "metadata": {},
   "outputs": [],
   "source": [
    "def bernoulli(n, k, p):\n",
    "    return float((factorial(n) / (factorial(k) * factorial(n - k))) * (p ** k) *((1-p) ** (n-k)) ) "
   ]
  },
  {
   "cell_type": "code",
   "execution_count": 15,
   "id": "419ba7ed",
   "metadata": {},
   "outputs": [
    {
     "name": "stdout",
     "output_type": "stream",
     "text": [
      "Р(А) (вероятность того, что стрелок попадает в цель ровно 85 раз ): 0.04806 \n",
      "\n"
     ]
    }
   ],
   "source": [
    "P_A = bernoulli(100, 85, 0.8)\n",
    "print(f\"Р(А) (вероятность того, что стрелок попадает в цель ровно 85 раз ): {round(P_A,5)} \\n\",)"
   ]
  },
  {
   "cell_type": "markdown",
   "id": "e30e82d0",
   "metadata": {},
   "source": [
    "#### 2. Вероятность того, что лампочка перегорит в течение первого дня эксплуатации, равна 0.0004. В жилом комплексе после ремонта в один день включили 5000 новых лампочек. а) Какова вероятность, что ни одна из них не перегорит в первый день? б) Какова вероятность, что перегорят ровно две?"
   ]
  },
  {
   "cell_type": "code",
   "execution_count": 16,
   "id": "dece05b3",
   "metadata": {},
   "outputs": [],
   "source": [
    "e = 2.72\n",
    "def poisson(n, m, p):\n",
    "    lambda_ = n * p\n",
    "    return float (((lambda_ ** m ) / factorial(m)) * (e ** (- lambda_)))"
   ]
  },
  {
   "cell_type": "code",
   "execution_count": 20,
   "id": "c66df3f1",
   "metadata": {},
   "outputs": [
    {
     "name": "stdout",
     "output_type": "stream",
     "text": [
      "Р(А) (вероятность того, что ни одна не перегорит в первый день): 0.13516 \n",
      "\n"
     ]
    }
   ],
   "source": [
    "# a)\n",
    "P_A = poisson(5000, 0, 0.0004)\n",
    "print(f\"Р(А) (вероятность того, что ни одна не перегорит в первый день): {round(P_A,5)} \\n\",)"
   ]
  },
  {
   "cell_type": "code",
   "execution_count": 19,
   "id": "e80cb861",
   "metadata": {},
   "outputs": [
    {
     "name": "stdout",
     "output_type": "stream",
     "text": [
      "Р(А) (вероятность того, что перегорят ровно 2 лампочки ): 0.27033 \n",
      "\n"
     ]
    }
   ],
   "source": [
    "# б)\n",
    "P_A = poisson(5000, 2, 0.0004)\n",
    "print(f\"Р(А) (вероятность того, что перегорят ровно 2 лампочки ): {round(P_A,5)} \\n\",)"
   ]
  },
  {
   "cell_type": "markdown",
   "id": "e642e5d8",
   "metadata": {},
   "source": [
    "#### 3.Монету подбросили 144 раза. Какова вероятность, что орел выпадет ровно 70 раз?\n"
   ]
  },
  {
   "cell_type": "code",
   "execution_count": 22,
   "id": "ff9e5d3c",
   "metadata": {},
   "outputs": [
    {
     "name": "stdout",
     "output_type": "stream",
     "text": [
      "Р(А) (вероятность того, что орел выпадет ровно 70 раз ): 0.06281 \n",
      "\n"
     ]
    }
   ],
   "source": [
    "P_A = bernoulli(144, 70, 0.5)\n",
    "print(f\"Р(А) (вероятность того, что орел выпадет ровно 70 раз ): {round(P_A,5)} \\n\",)"
   ]
  },
  {
   "cell_type": "markdown",
   "id": "1515f512",
   "metadata": {},
   "source": [
    "#### 4.В первом ящике находится 10 мячей, из которых 7 - белые. Во втором ящике - 11 мячей, из которых 9 белых. Из каждого ящика вытаскивают случайным образом по два мяча. a) Какова вероятность того, что все мячи белые? б) Какова вероятность того, что ровно два мяча белые? в) Какова вероятность того, что хотя бы один мяч белый?"
   ]
  },
  {
   "cell_type": "code",
   "execution_count": 25,
   "id": "201ad3a1",
   "metadata": {},
   "outputs": [],
   "source": [
    "n1 = 10  #всего мячей в 1 корзине\n",
    "k1 = 7   #всего белых мячей в 1 корзине\n",
    "n2 = 11  #всего мячей во 2 корзине\n",
    "k2 = 9   #всего белых мячей в 2 корзине"
   ]
  },
  {
   "cell_type": "code",
   "execution_count": 28,
   "id": "24fbac17",
   "metadata": {},
   "outputs": [
    {
     "name": "stdout",
     "output_type": "stream",
     "text": [
      "Р(А) (вероятность того, что все мячи белые ): 0.30545 \n",
      "\n"
     ]
    }
   ],
   "source": [
    "# а)\n",
    "P_A = (k1 / n1 * (k1 - 1 ) / (n1 - 1)) * ( k2 / n2 * (k2 - 1 ) / (n2 - 1))\n",
    "print(f\"Р(А) (вероятность того, что все мячи белые ): {round(P_A,5)} \\n\",)"
   ]
  },
  {
   "cell_type": "code",
   "execution_count": 32,
   "id": "aee59260",
   "metadata": {},
   "outputs": [
    {
     "name": "stdout",
     "output_type": "stream",
     "text": [
      "Р(А) (вероятность того, что ровно 2 мяча белые): 0.09657 \n",
      "\n"
     ]
    }
   ],
   "source": [
    "# б)\n",
    "P_B1 = (k1 / n1 * (k1 - 1 ) / (n1 - 1)) * ( (n2 - k2) / n2 * (n2 - k2 - 1 ) / (n2 - 1))\n",
    "P_B2 = ((n1 - k1) / n1 * (n1 - k1 - 1 ) / (n1 - 1)) * ( k2 / n2 * (k2 - 1 ) / (n2 - 1)) \n",
    "P_B1, P_B2\n",
    "C1 = combinations(10, 1)\n",
    "C2 = combinations(10, 2)\n",
    "C3 = combinations(11, 1)\n",
    "C4 = combinations(11, 2)\n",
    "P_B3 = (C1/C2) * (C3/C4)\n",
    "P_A = P_B1 + P_B2 + P_B3\n",
    "print(f\"Р(А) (вероятность того, что ровно 2 мяча белые): {round(P_A,5)} \\n\",)"
   ]
  },
  {
   "cell_type": "code",
   "execution_count": 40,
   "id": "727eee37",
   "metadata": {},
   "outputs": [
    {
     "name": "stdout",
     "output_type": "stream",
     "text": [
      "Р(А) (вероятность того, что хотя бы 1 мяч белый): 0.99879 \n",
      "\n"
     ]
    }
   ],
   "source": [
    "# в)\n",
    "P_B1 = ((n1 - k1) / n1 * (n1 - k1 - 1 ) / (n1 - 1)) #все мячи из первой корзины - черные\n",
    "P_B2 =( (n2 - k2) / n2 * (n2 - k2 - 1 ) / (n2 - 1)) #все мячи из второй корзины - черные\n",
    "P_A = 1 - P_B1 * P_B2\n",
    "print(f\"Р(А) (вероятность того, что хотя бы 1 мяч белый): {round(P_A,5)} \\n\",)"
   ]
  }
 ],
 "metadata": {
  "kernelspec": {
   "display_name": "Python 3",
   "language": "python",
   "name": "python3"
  },
  "language_info": {
   "codemirror_mode": {
    "name": "ipython",
    "version": 3
   },
   "file_extension": ".py",
   "mimetype": "text/x-python",
   "name": "python",
   "nbconvert_exporter": "python",
   "pygments_lexer": "ipython3",
   "version": "3.8.8"
  }
 },
 "nbformat": 4,
 "nbformat_minor": 5
}
