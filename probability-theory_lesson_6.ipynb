{
 "cells": [
  {
   "cell_type": "markdown",
   "id": "f92ecb26",
   "metadata": {},
   "source": [
    "##### 1.Даны значения величины заработной платы заемщиков банка (zp) и значения их поведенческого кредитного скоринга (ks):\n",
    "zp = [35, 45, 190, 200, 40, 70, 54, 150, 120, 110],\n",
    "ks = [401, 574, 874, 919, 459, 739, 653, 902, 746, 832].\n",
    "Найдите ковариацию этих двух величин с помощью элементарных действий, а затем с помощью функции cov из numpy\n",
    "Полученные значения должны быть равны.\n",
    "Найдите коэффициент корреляции Пирсона с помощью ковариации и среднеквадратичных отклонений двух признаков,\n",
    "а затем с использованием функций из библиотек numpy и pandas."
   ]
  },
  {
   "cell_type": "code",
   "execution_count": 1,
   "id": "f4c0e0b4",
   "metadata": {},
   "outputs": [],
   "source": [
    "import numpy as np\n",
    "import pandas as pd\n",
    "import math\n",
    "from scipy.stats import norm, t"
   ]
  },
  {
   "cell_type": "code",
   "execution_count": 2,
   "id": "066ed0f4",
   "metadata": {},
   "outputs": [],
   "source": [
    "zp = np.array([35, 45, 190, 200, 40, 70, 54, 150, 120, 110])\n",
    "ks = np.array([401, 574, 874, 919, 459, 739, 653, 902, 746, 832])"
   ]
  },
  {
   "cell_type": "code",
   "execution_count": 3,
   "id": "d7f261b9",
   "metadata": {},
   "outputs": [
    {
     "name": "stdout",
     "output_type": "stream",
     "text": [
      "cov_1 = 9157.84 - через статистические функции\n",
      "cov_2 = 9157.84 - через функцию numpy\n"
     ]
    }
   ],
   "source": [
    "cov_1 = np.mean(zp * ks) - np.mean(zp)* np.mean(ks)\n",
    "print(f'cov_1 = {round(cov_1, 3)} - через статистические функции')\n",
    "\n",
    "cov_2 = np.cov(zp, ks, ddof = 0)[0, 1]\n",
    "print(f'cov_2 = {round(cov_2, 3)} - через функцию numpy')"
   ]
  },
  {
   "cell_type": "code",
   "execution_count": 4,
   "id": "a0dfd037",
   "metadata": {},
   "outputs": [
    {
     "name": "stdout",
     "output_type": "stream",
     "text": [
      "coef_corr_1 = 0.887 - через ковариацию и СКО\n",
      "coef_corr_2 = 0.887 - через функцию numpy\n"
     ]
    }
   ],
   "source": [
    "std_zp = np.std(zp, ddof = 0)\n",
    "std_ks = np.std(ks, ddof = 0)\n",
    "\n",
    "coef_corr_1 = cov_1 / (std_zp * std_ks)\n",
    "print(f'coef_corr_1 = {round(coef_corr_1, 3)} - через ковариацию и СКО')\n",
    "\n",
    "coef_corr_2 = np.corrcoef(zp, ks)[0, 1]\n",
    "print(f'coef_corr_2 = {round(coef_corr_2, 3)} - через функцию numpy')"
   ]
  },
  {
   "cell_type": "code",
   "execution_count": 5,
   "id": "8492aee8",
   "metadata": {},
   "outputs": [
    {
     "name": "stdout",
     "output_type": "stream",
     "text": [
      "coef_corr_3 = 0.88749 - через функцию pandas\n"
     ]
    }
   ],
   "source": [
    "df = pd.DataFrame( { 'zp': zp, 'ks': ks}, columns = ['zp', 'ks'])\n",
    "\n",
    "coef_corr_3 = df.corr(method='pearson')\n",
    "coef_corr_3 = coef_corr_3.loc['zp', 'ks']\n",
    "print(f'coef_corr_3 = {round(coef_corr_3, 6)} - через функцию pandas')"
   ]
  },
  {
   "cell_type": "markdown",
   "id": "9101dd87",
   "metadata": {},
   "source": [
    "##### 2. Измерены значения IQ выборки студентов,обучающихся в местных технических вузах: 131, 125, 115, 122, 131, 115, 107, 99, 125, 111.\n",
    "#### Известно, что в генеральной совокупности IQ распределен нормально.Найдите доверительный интервал для математического ожидания с надежностью 0.95."
   ]
  },
  {
   "cell_type": "code",
   "execution_count": 7,
   "id": "4264cedd",
   "metadata": {},
   "outputs": [
    {
     "name": "stdout",
     "output_type": "stream",
     "text": [
      "M = 118.1\n",
      "СКО (для несмещенной дисперсии) = 10.546\n",
      "Aplha = 0.05\n",
      "v (степени свободы) = 9\n",
      "t (статистический критерий)= -2.262\n",
      "\n",
      "доверительный интервал = [110.556, 125.644]\n"
     ]
    }
   ],
   "source": [
    "x = np.array([131, 125, 115, 122, 131, 115, 107, 99, 125, 111])\n",
    "M = x.mean()\n",
    "print(f'M = {round(M, 3)}')\n",
    "\n",
    "sko = np.sqrt(x.var(ddof = 1))\n",
    "print(f'СКО (для несмещенной дисперсии) = {round(sko, 3)}')\n",
    "\n",
    "alpha = 1 - 0.95 \n",
    "print(f'Aplha = {round(alpha, 3)}')\n",
    "\n",
    "v = x.size - 1\n",
    "print(f'v (степени свободы) = {v}')\n",
    "\n",
    "t_crit = t.ppf(alpha/2, 9)\n",
    "print(f't (статистический критерий)= {round(t_crit, 3)}\\n')\n",
    "\n",
    "\n",
    "T1 = M + t_crit * sko / np.sqrt(x.size)\n",
    "T2 = M - t_crit * sko / np.sqrt(x.size)\n",
    "\n",
    "print(f'доверительный интервал = [{round(T1, 3)}, {round(T2, 3)}]')"
   ]
  },
  {
   "cell_type": "markdown",
   "id": "1337d58d",
   "metadata": {},
   "source": [
    "##### 3. Известно, что рост футболистов в сборной распределен нормально с дисперсией генеральной совокупности, равной 25 кв.см. Объем выборки равен 27, среднее выборочное составляет 174.2. Найдите доверительный интервал для математического ожидания с надежностью 0.95."
   ]
  },
  {
   "cell_type": "code",
   "execution_count": null,
   "id": "6460a2f0",
   "metadata": {},
   "outputs": [],
   "source": [
    "D     = 25\n",
    "sko   = np.sqrt(D)\n",
    "n     = 27\n",
    "M     = 174.2\n",
    "alpha = 1 - 0.95\n",
    "\n",
    "Z = norm.ppf( alpha / 2)\n",
    "\n",
    "\n",
    "T1 = M + Z * sko / np.sqrt(n)\n",
    "T2 = M - Z * sko / np.sqrt(n)\n",
    "print(f'доверительный интервал = [{round(T1, 3)}, {round(T2, 3)}]')\n"
   ]
  }
 ],
 "metadata": {
  "kernelspec": {
   "display_name": "Python 3",
   "language": "python",
   "name": "python3"
  },
  "language_info": {
   "codemirror_mode": {
    "name": "ipython",
    "version": 3
   },
   "file_extension": ".py",
   "mimetype": "text/x-python",
   "name": "python",
   "nbconvert_exporter": "python",
   "pygments_lexer": "ipython3",
   "version": "3.8.8"
  }
 },
 "nbformat": 4,
 "nbformat_minor": 5
}
