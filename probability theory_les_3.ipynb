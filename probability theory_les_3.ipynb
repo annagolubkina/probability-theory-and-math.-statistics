{
 "cells": [
  {
   "cell_type": "code",
   "execution_count": 1,
   "id": "0840f487",
   "metadata": {},
   "outputs": [],
   "source": [
    "from math import factorial\n",
    "import pandas as pd\n",
    "import numpy as np"
   ]
  },
  {
   "cell_type": "code",
   "execution_count": 2,
   "id": "42b87264",
   "metadata": {},
   "outputs": [],
   "source": [
    "def combinations(n, k):\n",
    "    return int(factorial(n) / (factorial(k) * factorial(n - k)))"
   ]
  },
  {
   "cell_type": "markdown",
   "id": "2681e260",
   "metadata": {},
   "source": [
    "#### 1. Даны значения зарплат из выборки выпускников: 100, 80, 75, 77, 89, 33, 45, 25, 65, 17, 30, 24, 57, 55, 70, 75, 65, 84, 90, 150. Посчитать (желательно без использования статистических методов наподобие std, var, mean) среднее арифметическое, среднее квадратичное отклонение, смещенную и несмещенную оценки дисперсий для данной выборки."
   ]
  },
  {
   "cell_type": "code",
   "execution_count": 3,
   "id": "366d0541",
   "metadata": {},
   "outputs": [],
   "source": [
    "data = pd.Series([100, 80, 75, 77, 89, 33, 45, 25, 65, 17, 30, 24, 57, 55, 70, 75, 65, 84, 90, 150])"
   ]
  },
  {
   "cell_type": "code",
   "execution_count": 4,
   "id": "fbf07284",
   "metadata": {},
   "outputs": [
    {
     "name": "stdout",
     "output_type": "stream",
     "text": [
      "ME среднее арифметическое равно : 65.3 \n",
      "\n"
     ]
    }
   ],
   "source": [
    "ME = data.sum() / data.count()\n",
    "print(f\"ME среднее арифметическое равно : {round(ME,3)} \\n\",)"
   ]
  },
  {
   "cell_type": "code",
   "execution_count": 5,
   "id": "367239b2",
   "metadata": {},
   "outputs": [
    {
     "name": "stdout",
     "output_type": "stream",
     "text": [
      "SD среднее квадратичное равно : 30.824 \n",
      "\n"
     ]
    }
   ],
   "source": [
    "SD = np.sqrt(((data - ME) ** 2).sum() / data.count())\n",
    "print(f\"SD среднее квадратичное равно : {round(SD,3)} \\n\",)"
   ]
  },
  {
   "cell_type": "code",
   "execution_count": 6,
   "id": "afa2e5e5",
   "metadata": {},
   "outputs": [
    {
     "name": "stdout",
     "output_type": "stream",
     "text": [
      "SD смещенная оценка дисперсии равна : 950.11 \n",
      "\n"
     ]
    }
   ],
   "source": [
    "variance = ((data - ME) ** 2).sum() / data.count()\n",
    "print(f\"SD смещенная оценка дисперсии равна : {round(variance,3)} \\n\",)"
   ]
  },
  {
   "cell_type": "code",
   "execution_count": 7,
   "id": "ab60029e",
   "metadata": {},
   "outputs": [
    {
     "name": "stdout",
     "output_type": "stream",
     "text": [
      "SD несмещенная оценка дисперсии равна : 1000.116 \n",
      "\n"
     ]
    }
   ],
   "source": [
    "variance2 = ((data - ME) ** 2).sum() / (data.count() - 1)\n",
    "print(f\"SD несмещенная оценка дисперсии равна : {round(variance2,3)} \\n\",)"
   ]
  },
  {
   "cell_type": "markdown",
   "id": "eafb8336",
   "metadata": {},
   "source": [
    "#### 2.  первом ящике находится 8 мячей, из которых 5 - белые. Во втором ящике - 12 мячей, из которых 5 белых. Из первого ящика вытаскивают случайным образом два мяча, из второго - 4. Какова вероятность того, что 3 мяча белые?"
   ]
  },
  {
   "cell_type": "code",
   "execution_count": 8,
   "id": "a23f544b",
   "metadata": {},
   "outputs": [],
   "source": [
    "# А1 - из первого ящика вынули 2 белых мяча, из второго ящика вынули 1 белый мяч и 3 черных мяча \n",
    "# А2 - из первого ящика вынули 1 белый мяч и 1 черный мяч, из второго ящика вынули 2 белых мяча и 2 черных мяча\n",
    "# А3 - из первого ящика вынули 0 белых мячей и 2 черных мяча, из второго ящика вынули 3 белых мяча и 1 черный мяч\n",
    "# B - из ящиков вынули три белых мяча"
   ]
  },
  {
   "cell_type": "code",
   "execution_count": 9,
   "id": "32ec3755",
   "metadata": {},
   "outputs": [
    {
     "data": {
      "text/plain": [
       "0.12626262626262627"
      ]
     },
     "execution_count": 9,
     "metadata": {},
     "output_type": "execute_result"
    }
   ],
   "source": [
    "P_A1 = (combinations(5, 2) / combinations(8, 2)) * ((combinations(5, 1) * combinations(7, 3)) / combinations(12, 4))\n",
    "P_A1"
   ]
  },
  {
   "cell_type": "code",
   "execution_count": 10,
   "id": "4d60a712",
   "metadata": {},
   "outputs": [
    {
     "data": {
      "text/plain": [
       "0.22727272727272727"
      ]
     },
     "execution_count": 10,
     "metadata": {},
     "output_type": "execute_result"
    }
   ],
   "source": [
    "P_A2 = ((combinations(5, 1) * combinations(3, 1)) / combinations(8, 2)) * ((combinations(5, 2) * combinations(7, 2)) / combinations(12, 4))\n",
    "P_A2"
   ]
  },
  {
   "cell_type": "code",
   "execution_count": 11,
   "id": "70a5d095",
   "metadata": {},
   "outputs": [
    {
     "data": {
      "text/plain": [
       "0.01515151515151515"
      ]
     },
     "execution_count": 11,
     "metadata": {},
     "output_type": "execute_result"
    }
   ],
   "source": [
    "P_A3 = (combinations(3, 2) / combinations(8, 2)) * ((combinations(5, 3) * combinations(7, 1)) / combinations(12, 4))\n",
    "P_A3"
   ]
  },
  {
   "cell_type": "code",
   "execution_count": 12,
   "id": "2b2342e7",
   "metadata": {},
   "outputs": [
    {
     "name": "stdout",
     "output_type": "stream",
     "text": [
      "P_B вероятность что 3 мяча белые равна : 0.369 \n",
      "\n"
     ]
    }
   ],
   "source": [
    "P_B = P_A1 + P_A2 + P_A3\n",
    "print(f\"P_B вероятность что 3 мяча белые равна : {round(P_B,3)} \\n\",)"
   ]
  },
  {
   "cell_type": "markdown",
   "id": "720b126b",
   "metadata": {},
   "source": [
    "#### 3. На соревновании по биатлону один из трех спортсменов стреляет и попадает в мишень. Вероятность попадания для первого спортсмена равна 0.9, для второго — 0.8, для третьего — 0.6. Найти вероятность того, что выстрел произведен: a). первым спортсменом б). вторым спортсменом в). третьим спортсменом."
   ]
  },
  {
   "cell_type": "code",
   "execution_count": 13,
   "id": "acfe79b2",
   "metadata": {},
   "outputs": [],
   "source": [
    "# B - мишень поражена\n",
    "# А1 - первый стрелок попал в цель\n",
    "# А2 - второй стрелок попал в цель\n",
    "# А3 - третий стрелок попал в цель"
   ]
  },
  {
   "cell_type": "code",
   "execution_count": 14,
   "id": "5db1c84a",
   "metadata": {},
   "outputs": [
    {
     "data": {
      "text/plain": [
       "0.7666666666666666"
      ]
     },
     "execution_count": 14,
     "metadata": {},
     "output_type": "execute_result"
    }
   ],
   "source": [
    "P_B = 1 / 3 * 0.9 + 1 / 3 * 0.8 + 1 / 3 * 0.6\n",
    "P_B"
   ]
  },
  {
   "cell_type": "code",
   "execution_count": 15,
   "id": "80e9107c",
   "metadata": {},
   "outputs": [
    {
     "name": "stdout",
     "output_type": "stream",
     "text": [
      "P_B вероятность того, что выстрел произведен 1 спортсменом : 0.391 \n",
      "\n"
     ]
    }
   ],
   "source": [
    "#a)\n",
    "P_A1 = 1 / 3 * 0.9 / P_B\n",
    "print(f\"P_B вероятность того, что выстрел произведен 1 спортсменом : {round(P_A1,3)} \\n\",)"
   ]
  },
  {
   "cell_type": "code",
   "execution_count": 16,
   "id": "9a5e2bf0",
   "metadata": {},
   "outputs": [
    {
     "name": "stdout",
     "output_type": "stream",
     "text": [
      "P_B вероятность того, что выстрел произведен 2 спортсменом : 0.348 \n",
      "\n"
     ]
    }
   ],
   "source": [
    "#б)\n",
    "P_A2 = 1 / 3 * 0.8 / P_B\n",
    "print(f\"P_B вероятность того, что выстрел произведен 2 спортсменом : {round(P_A2,3)} \\n\",)"
   ]
  },
  {
   "cell_type": "code",
   "execution_count": 17,
   "id": "6a43b78c",
   "metadata": {},
   "outputs": [
    {
     "name": "stdout",
     "output_type": "stream",
     "text": [
      "P_B вероятность того, что выстрел произведен 3 спортсменом : 0.261 \n",
      "\n"
     ]
    }
   ],
   "source": [
    "#в)\n",
    "P_A3 = 1 / 3 * 0.6 / P_B\n",
    "print(f\"P_B вероятность того, что выстрел произведен 3 спортсменом : {round(P_A3,3)} \\n\",)"
   ]
  },
  {
   "cell_type": "markdown",
   "id": "9ce95f3e",
   "metadata": {},
   "source": [
    "#### 4. В университет на факультеты A и B поступило равное количество студентов, а на факультет C студентов поступило столько же, сколько на A и B вместе. Вероятность того, что студент факультета A сдаст первую сессию, равна 0.8. Для студента факультета B эта вероятность равна 0.7, а для студента факультета C - 0.9. Студент сдал первую сессию. Какова вероятность, что он учится: a). на факультете A б). на факультете B в). на факультете C?"
   ]
  },
  {
   "cell_type": "code",
   "execution_count": 18,
   "id": "0c0d1e4a",
   "metadata": {},
   "outputs": [],
   "source": [
    "# B - Студент сдал первую сессию\n",
    "# А1 - студент с факультета А ( 1/4 всех учащихся)\n",
    "# А2 - студент с факультета В  ( 1/4 всех учащихся)\n",
    "# А3 - студент с факультета С ( 1/2 всех учащихся)"
   ]
  },
  {
   "cell_type": "code",
   "execution_count": 19,
   "id": "c0ba60b3",
   "metadata": {},
   "outputs": [
    {
     "data": {
      "text/plain": [
       "0.825"
      ]
     },
     "execution_count": 19,
     "metadata": {},
     "output_type": "execute_result"
    }
   ],
   "source": [
    "P_B = 1 / 4 * 0.8 + 1 / 4 * 0.7 + 2 / 4 * 0.9\n",
    "P_B"
   ]
  },
  {
   "cell_type": "code",
   "execution_count": 20,
   "id": "343ccf74",
   "metadata": {},
   "outputs": [
    {
     "name": "stdout",
     "output_type": "stream",
     "text": [
      "P_B вероятность того, что студент учится на культете А : 0.242 \n",
      "\n"
     ]
    }
   ],
   "source": [
    "P_A1 = (1 / 4 * 0.8 )/ P_B\n",
    "print(f\"P_B вероятность того, что студент учится на культете А : {round(P_A1,3)} \\n\",)"
   ]
  },
  {
   "cell_type": "code",
   "execution_count": 21,
   "id": "76281f3d",
   "metadata": {},
   "outputs": [
    {
     "name": "stdout",
     "output_type": "stream",
     "text": [
      "P_B вероятность того, что студент учится на культете В : 0.212 \n",
      "\n"
     ]
    }
   ],
   "source": [
    "P_A2 = (1 / 4 * 0.7) / P_B\n",
    "print(f\"P_B вероятность того, что студент учится на культете В : {round(P_A2,3)} \\n\",)"
   ]
  },
  {
   "cell_type": "code",
   "execution_count": 22,
   "id": "7ee5900a",
   "metadata": {},
   "outputs": [
    {
     "name": "stdout",
     "output_type": "stream",
     "text": [
      "P_B вероятность того, что студент учится на культете С : 0.545 \n",
      "\n"
     ]
    }
   ],
   "source": [
    "P_A3 = (1 / 2 * 0.9 ) / P_B\n",
    "print(f\"P_B вероятность того, что студент учится на культете С : {round(P_A3,3)} \\n\",)"
   ]
  },
  {
   "cell_type": "markdown",
   "id": "d8c42a90",
   "metadata": {},
   "source": [
    "#### 5. Устройство состоит из трех деталей. Для первой детали вероятность выйти из строя в первый месяц равна 0.1, для второй - 0.2, для третьей - 0.25. Какова вероятность того, что в первый месяц выйдут из строя: а). все детали б). только две детали в). хотя бы одна деталь г). от одной до двух деталей?"
   ]
  },
  {
   "cell_type": "code",
   "execution_count": 23,
   "id": "d4dde320",
   "metadata": {},
   "outputs": [],
   "source": [
    "p_1 = 0.1     #первая деталь выйдет из строя\n",
    "p_2 = 0.2     #вторая деталь выйдет из строя\n",
    "p_3 = 0.25    #третья деталь выйдет из строя\n",
    "q_1 = 1 - p_1 #первая деталь не выйдет из строя\n",
    "q_2 = 1 - p_2 #вторая деталь не выйдет из строя\n",
    "q_3 = 1 - p_3 #третья деталь не выйдет из строя"
   ]
  },
  {
   "cell_type": "code",
   "execution_count": 24,
   "id": "8de2efaf",
   "metadata": {},
   "outputs": [
    {
     "name": "stdout",
     "output_type": "stream",
     "text": [
      "P_B0 вероятность того, что все детали не выйдут из строя : 0.54 \n",
      "\n"
     ]
    }
   ],
   "source": [
    "P_B0 = q_1 * q_2 * q_3\n",
    "print(f\"P_B0 вероятность того, что все детали не выйдут из строя : {round(P_B0,3)} \\n\",)"
   ]
  },
  {
   "cell_type": "code",
   "execution_count": 25,
   "id": "8e44ccb2",
   "metadata": {},
   "outputs": [
    {
     "name": "stdout",
     "output_type": "stream",
     "text": [
      "P_B1 вероятность того, что все детали выйдут из строя : 0.005 \n",
      "\n"
     ]
    }
   ],
   "source": [
    "#a)\n",
    "P_B1 = p_1 * p_2 * p_3\n",
    "print(f\"P_B1 вероятность того, что все детали выйдут из строя : {round(P_B1,3)} \\n\",)"
   ]
  },
  {
   "cell_type": "code",
   "execution_count": 26,
   "id": "0f155229",
   "metadata": {},
   "outputs": [
    {
     "name": "stdout",
     "output_type": "stream",
     "text": [
      "P_B2 вероятность того, что только две детали выйдут из строя : 0.08 \n",
      "\n"
     ]
    }
   ],
   "source": [
    "#б)\n",
    "# A1 - 1 и 2 детали вышли из строя \n",
    "# А2 - 1 и 3 детали вышли из строя \n",
    "# A3 - 2 и 3 детали вышли из строя \n",
    "P_A1 = p_1 * p_2 * q_3\n",
    "P_A2 = p_1 * q_2 * p_3\n",
    "P_A3 = q_1 * p_2 * p_3\n",
    "P_B2 = P_A1 + P_A2 + P_A3\n",
    "print(f\"P_B2 вероятность того, что только две детали выйдут из строя : {round(P_B2,3)} \\n\",)"
   ]
  },
  {
   "cell_type": "code",
   "execution_count": 27,
   "id": "71dbb065",
   "metadata": {},
   "outputs": [
    {
     "name": "stdout",
     "output_type": "stream",
     "text": [
      "P_B3 вероятность того, что хотя бы одна деталь выйдет из строя : 0.46 \n",
      "\n"
     ]
    }
   ],
   "source": [
    "#в)\n",
    "P_B3 = 1 - q_1 * q_2 * q_3\n",
    "print(f\"P_B3 вероятность того, что хотя бы одна деталь выйдет из строя : {round(P_B3,3)} \\n\",)"
   ]
  },
  {
   "cell_type": "code",
   "execution_count": 28,
   "id": "9690430c",
   "metadata": {},
   "outputs": [
    {
     "name": "stdout",
     "output_type": "stream",
     "text": [
      "P_B4 вероятность того, что выйдут из строя от одной до двух деталей : 0.455 \n",
      "\n"
     ]
    }
   ],
   "source": [
    "#г)\n",
    "# то есть исключить варианты, когда все детали будут работать и когда три детали выйдут из строя\n",
    "P_B4 = 1 - P_B0 - P_B1\n",
    "print(f\"P_B4 вероятность того, что выйдут из строя от одной до двух деталей : {round(P_B4,3)} \\n\",)"
   ]
  }
 ],
 "metadata": {
  "kernelspec": {
   "display_name": "Python 3",
   "language": "python",
   "name": "python3"
  },
  "language_info": {
   "codemirror_mode": {
    "name": "ipython",
    "version": 3
   },
   "file_extension": ".py",
   "mimetype": "text/x-python",
   "name": "python",
   "nbconvert_exporter": "python",
   "pygments_lexer": "ipython3",
   "version": "3.8.8"
  }
 },
 "nbformat": 4,
 "nbformat_minor": 5
}
